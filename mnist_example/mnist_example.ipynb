{
 "cells": [
  {
   "cell_type": "code",
   "execution_count": 1,
   "metadata": {},
   "outputs": [
    {
     "data": {
      "application/javascript": [
       "\n",
       "try {\n",
       "require(['notebook/js/codecell'], function(codecell) {\n",
       "  codecell.CodeCell.options_default.highlight_modes[\n",
       "      'magic_text/x-csrc'] = {'reg':[/^%%microblaze/]};\n",
       "  Jupyter.notebook.events.one('kernel_ready.Kernel', function(){\n",
       "      Jupyter.notebook.get_cells().map(function(cell){\n",
       "          if (cell.cell_type == 'code'){ cell.auto_highlight(); } }) ;\n",
       "  });\n",
       "});\n",
       "} catch (e) {};\n"
      ]
     },
     "metadata": {},
     "output_type": "display_data"
    },
    {
     "data": {
      "application/javascript": [
       "\n",
       "try {\n",
       "require(['notebook/js/codecell'], function(codecell) {\n",
       "  codecell.CodeCell.options_default.highlight_modes[\n",
       "      'magic_text/x-csrc'] = {'reg':[/^%%pybind11/]};\n",
       "  Jupyter.notebook.events.one('kernel_ready.Kernel', function(){\n",
       "      Jupyter.notebook.get_cells().map(function(cell){\n",
       "          if (cell.cell_type == 'code'){ cell.auto_highlight(); } }) ;\n",
       "  });\n",
       "});\n",
       "} catch (e) {};\n"
      ]
     },
     "metadata": {},
     "output_type": "display_data"
    }
   ],
   "source": [
    "import pkg_resources as pk\n",
    "\n",
    "import os\n",
    "import platform\n",
    "import pynq\n",
    "import numpy as np\n",
    "import time\n",
    "import random\n",
    "from pynq import Overlay, allocate\n",
    "from pynq.ps import Clocks\n",
    "import gzip\n",
    "from pynq import PL\n",
    "import dataset_loading as dl\n",
    "from pynq import allocate"
   ]
  },
  {
   "cell_type": "code",
   "execution_count": 3,
   "metadata": {},
   "outputs": [
    {
     "name": "stdout",
     "output_type": "stream",
     "text": [
      "Looking for Train Imgs\n",
      "Tar File found in data_dir. Not Downloading again\n",
      "Looking for Train Labels\n",
      "Tar File found in data_dir. Not Downloading again\n",
      "Looking for Test Imgs\n",
      "Tar File found in data_dir. Not Downloading again\n",
      "Looking for Test Labels\n",
      "Tar File found in data_dir. Not Downloading again\n"
     ]
    }
   ],
   "source": [
    "from dataset_loading import mnist\n",
    "trainx, trainy, testx, testy, valx, valy = mnist.load_mnist_data(\n",
    "    \"fpgannlab/data\", one_hot=False, download=True)\n",
    "#trainx = round(trainx / 255 * 1000).astype(np.uint32)\n",
    "trainx = trainx.astype(np.uint8)\n",
    "testx = testx.astype(np.uint8)\n",
    "#testx = round(testx / 255 * 1000).astype(np.uint32)"
   ]
  },
  {
   "cell_type": "code",
   "execution_count": 99,
   "metadata": {},
   "outputs": [
    {
     "name": "stdout",
     "output_type": "stream",
     "text": [
      "Clock is set to 50.0\n"
     ]
    }
   ],
   "source": [
    "hdc = Overlay(\"bitfiles/design_1.bit\")\n",
    "Clocks.fclk0_mhz = 50.00\n",
    "print(\"Clock is set to \" + str(Clocks.fclk0_mhz)) \n",
    "dma0 = hdc.axi_dma_0\n",
    "dma_send = dma0.sendchannel\n",
    "dma1 = hdc.axi_dma_1\n",
    "dma_recv = dma1.recvchannel"
   ]
  },
  {
   "cell_type": "code",
   "execution_count": 100,
   "metadata": {
    "scrolled": false
   },
   "outputs": [
    {
     "name": "stdout",
     "output_type": "stream",
     "text": [
      "74.83999999999999\n",
      "7484\n"
     ]
    }
   ],
   "source": [
    "dma0.register_map.S2MM_DMACR.Reset = 1\n",
    "if not dma_send.running:\n",
    "    dma_send.start()\n",
    "\n",
    "dma1.register_map.S2MM_DMACR.Reset = 1\n",
    "if not dma_recv.running:\n",
    "    dma_recv.start()\n",
    "\n",
    "data_size = 784\n",
    "input_buffer = allocate(shape=(data_size,), dtype=np.uint8)\n",
    "output_buffer = allocate(shape=(1,), dtype=np.uint8)\n",
    "\n",
    "\n",
    "total = 0\n",
    "correct = 0\n",
    "\n",
    "for i,x in enumerate(testx):\n",
    "    dma0.register_map.S2MM_DMACR.Reset = 1\n",
    "    if not dma_send.running:\n",
    "        dma_send.start()\n",
    "\n",
    "    dma1.register_map.S2MM_DMACR.Reset = 1\n",
    "    if not dma_recv.running:\n",
    "        dma_recv.start()\n",
    "    input_buffer[:] = testx[i].reshape(784,)\n",
    "    dma_send.transfer(input_buffer)\n",
    "    dma_recv.transfer(output_buffer)\n",
    "    total += 1\n",
    "    correct += output_buffer[0]==testy[i]\n",
    "   \n",
    "print(correct/total*100)\n",
    "print(correct)\n",
    "\n",
    "del input_buffer, output_buffer"
   ]
  }
 ],
 "metadata": {
  "kernelspec": {
   "display_name": "Python 3",
   "language": "python",
   "name": "python3"
  },
  "language_info": {
   "codemirror_mode": {
    "name": "ipython",
    "version": 3
   },
   "file_extension": ".py",
   "mimetype": "text/x-python",
   "name": "python",
   "nbconvert_exporter": "python",
   "pygments_lexer": "ipython3",
   "version": "3.8.2"
  }
 },
 "nbformat": 4,
 "nbformat_minor": 2
}
